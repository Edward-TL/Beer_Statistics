{
  "nbformat": 4,
  "nbformat_minor": 0,
  "metadata": {
    "colab": {
      "name": "only_plots.ipynb",
      "provenance": [],
      "mount_file_id": "1kxB3grf_qLztQGN0HQS8SPtcye9YIVdy",
      "authorship_tag": "ABX9TyMyHYVgsgIhNOw91nqwohxf",
      "include_colab_link": true
    },
    "kernelspec": {
      "name": "python3",
      "display_name": "Python 3"
    }
  },
  "cells": [
    {
      "cell_type": "markdown",
      "metadata": {
        "id": "view-in-github",
        "colab_type": "text"
      },
      "source": [
        "<a href=\"https://colab.research.google.com/github/Edward-TL/Beer_Statistics/blob/master/only_plots.ipynb\" target=\"_parent\"><img src=\"https://colab.research.google.com/assets/colab-badge.svg\" alt=\"Open In Colab\"/></a>"
      ]
    },
    {
      "cell_type": "code",
      "metadata": {
        "id": "YD3MsElyS39I",
        "colab_type": "code",
        "colab": {}
      },
      "source": [
        "import scipy.stats\n",
        "import numpy as np\n",
        "import pandas as pd\n",
        "\n",
        "import matplotlib.pyplot as plt\n",
        "import seaborn as sns\n",
        "\n",
        "%matplotlib inline\n",
        "\n",
        "import csv, os\n",
        "from datetime import datetime"
      ],
      "execution_count": 32,
      "outputs": []
    },
    {
      "cell_type": "code",
      "metadata": {
        "id": "C_mNMjxp3sBW",
        "colab_type": "code",
        "colab": {}
      },
      "source": [
        "def csv_as_dictionary(file):\n",
        "    with open(beer_csv, mode=\"r\", encoding='utf-8', newline='') as csv_file:\n",
        "        csv_reader = csv.reader(csv_file)\n",
        "        header = next(csv_reader)\n",
        "        \n",
        "        column_data = ''\n",
        "        data_date = []\n",
        "        av_temp = []\n",
        "        min_temp = []\n",
        "        max_temp = []\n",
        "        precipitation = []\n",
        "        was_a_weekend = []\n",
        "        beer_consumed = []\n",
        "        \n",
        "        for row in csv_reader:\n",
        "            #No 'problem'\n",
        "    \n",
        "            if row[0]!= '': data_date.append(datetime.strptime(row[0], '%Y-%m-%d'))\n",
        "                \n",
        "            if row[5] != '': was_a_weekend.append(bool(int(row[5])))\n",
        "            \n",
        "            #Comma problem\n",
        "            if row[1] != '': av_temp.append(float(row[1].replace(',','.')))\n",
        "            if row[2] != '': min_temp.append(float(row[2].replace(',','.')))\n",
        "            if row[3] != '': max_temp.append(float(row[3].replace(',','.')))\n",
        "            if row[4] != '': precipitation.append(float(row[4].replace(',','.')))\n",
        "            \n",
        "            #Period Problem\n",
        "            if row[6] != '': beer_consumed.append(int(row[6].replace('.','')))\n",
        "            \n",
        "    csv_file.close()\n",
        "\n",
        "    dictionary = {\n",
        "        'date': data_date,\n",
        "        'av_temp': av_temp,\n",
        "        'min_temp': min_temp,\n",
        "        'max_temp': max_temp,\n",
        "        'precipitation': precipitation,\n",
        "        'was_a_weekend': was_a_weekend,\n",
        "        'beer_consumed': beer_consumed\n",
        "    }\n",
        "    return dictionary"
      ],
      "execution_count": 33,
      "outputs": []
    },
    {
      "cell_type": "code",
      "metadata": {
        "id": "f54OauNwSuHW",
        "colab_type": "code",
        "colab": {
          "base_uri": "https://localhost:8080/",
          "height": 402
        },
        "outputId": "6ef014c1-1ea4-4f43-c73b-a0ecc263c4c6"
      },
      "source": [
        "beer_csv = '/content/drive/My Drive/Colab Notebooks/RetoCerveza/datasets_28454_184859_Consumo_cerveja.csv'\n",
        "\n",
        "cerveza_dict = csv_as_dictionary(beer_csv)\n",
        "cerveza_df = pd.DataFrame(cerveza_dict)\n",
        "cerveza_df"
      ],
      "execution_count": 34,
      "outputs": [
        {
          "output_type": "execute_result",
          "data": {
            "text/html": [
              "<div>\n",
              "<style scoped>\n",
              "    .dataframe tbody tr th:only-of-type {\n",
              "        vertical-align: middle;\n",
              "    }\n",
              "\n",
              "    .dataframe tbody tr th {\n",
              "        vertical-align: top;\n",
              "    }\n",
              "\n",
              "    .dataframe thead th {\n",
              "        text-align: right;\n",
              "    }\n",
              "</style>\n",
              "<table border=\"1\" class=\"dataframe\">\n",
              "  <thead>\n",
              "    <tr style=\"text-align: right;\">\n",
              "      <th></th>\n",
              "      <th>date</th>\n",
              "      <th>av_temp</th>\n",
              "      <th>min_temp</th>\n",
              "      <th>max_temp</th>\n",
              "      <th>precipitation</th>\n",
              "      <th>was_a_weekend</th>\n",
              "      <th>beer_consumed</th>\n",
              "    </tr>\n",
              "  </thead>\n",
              "  <tbody>\n",
              "    <tr>\n",
              "      <th>0</th>\n",
              "      <td>2015-01-01</td>\n",
              "      <td>27.30</td>\n",
              "      <td>23.9</td>\n",
              "      <td>32.5</td>\n",
              "      <td>0.0</td>\n",
              "      <td>False</td>\n",
              "      <td>25461</td>\n",
              "    </tr>\n",
              "    <tr>\n",
              "      <th>1</th>\n",
              "      <td>2015-01-02</td>\n",
              "      <td>27.02</td>\n",
              "      <td>24.5</td>\n",
              "      <td>33.5</td>\n",
              "      <td>0.0</td>\n",
              "      <td>False</td>\n",
              "      <td>28972</td>\n",
              "    </tr>\n",
              "    <tr>\n",
              "      <th>2</th>\n",
              "      <td>2015-01-03</td>\n",
              "      <td>24.82</td>\n",
              "      <td>22.4</td>\n",
              "      <td>29.9</td>\n",
              "      <td>0.0</td>\n",
              "      <td>True</td>\n",
              "      <td>30814</td>\n",
              "    </tr>\n",
              "    <tr>\n",
              "      <th>3</th>\n",
              "      <td>2015-01-04</td>\n",
              "      <td>23.98</td>\n",
              "      <td>21.5</td>\n",
              "      <td>28.6</td>\n",
              "      <td>1.2</td>\n",
              "      <td>True</td>\n",
              "      <td>29799</td>\n",
              "    </tr>\n",
              "    <tr>\n",
              "      <th>4</th>\n",
              "      <td>2015-01-05</td>\n",
              "      <td>23.82</td>\n",
              "      <td>21.0</td>\n",
              "      <td>28.3</td>\n",
              "      <td>0.0</td>\n",
              "      <td>False</td>\n",
              "      <td>28900</td>\n",
              "    </tr>\n",
              "    <tr>\n",
              "      <th>...</th>\n",
              "      <td>...</td>\n",
              "      <td>...</td>\n",
              "      <td>...</td>\n",
              "      <td>...</td>\n",
              "      <td>...</td>\n",
              "      <td>...</td>\n",
              "      <td>...</td>\n",
              "    </tr>\n",
              "    <tr>\n",
              "      <th>360</th>\n",
              "      <td>2015-12-27</td>\n",
              "      <td>24.00</td>\n",
              "      <td>21.1</td>\n",
              "      <td>28.2</td>\n",
              "      <td>13.6</td>\n",
              "      <td>True</td>\n",
              "      <td>32307</td>\n",
              "    </tr>\n",
              "    <tr>\n",
              "      <th>361</th>\n",
              "      <td>2015-12-28</td>\n",
              "      <td>22.64</td>\n",
              "      <td>21.1</td>\n",
              "      <td>26.7</td>\n",
              "      <td>0.0</td>\n",
              "      <td>False</td>\n",
              "      <td>26095</td>\n",
              "    </tr>\n",
              "    <tr>\n",
              "      <th>362</th>\n",
              "      <td>2015-12-29</td>\n",
              "      <td>21.68</td>\n",
              "      <td>20.3</td>\n",
              "      <td>24.1</td>\n",
              "      <td>10.3</td>\n",
              "      <td>False</td>\n",
              "      <td>22309</td>\n",
              "    </tr>\n",
              "    <tr>\n",
              "      <th>363</th>\n",
              "      <td>2015-12-30</td>\n",
              "      <td>21.38</td>\n",
              "      <td>19.3</td>\n",
              "      <td>22.4</td>\n",
              "      <td>6.3</td>\n",
              "      <td>False</td>\n",
              "      <td>20467</td>\n",
              "    </tr>\n",
              "    <tr>\n",
              "      <th>364</th>\n",
              "      <td>2015-12-31</td>\n",
              "      <td>24.76</td>\n",
              "      <td>20.2</td>\n",
              "      <td>29.0</td>\n",
              "      <td>0.0</td>\n",
              "      <td>False</td>\n",
              "      <td>22446</td>\n",
              "    </tr>\n",
              "  </tbody>\n",
              "</table>\n",
              "<p>365 rows × 7 columns</p>\n",
              "</div>"
            ],
            "text/plain": [
              "          date  av_temp  min_temp  ...  precipitation  was_a_weekend  beer_consumed\n",
              "0   2015-01-01    27.30      23.9  ...            0.0          False          25461\n",
              "1   2015-01-02    27.02      24.5  ...            0.0          False          28972\n",
              "2   2015-01-03    24.82      22.4  ...            0.0           True          30814\n",
              "3   2015-01-04    23.98      21.5  ...            1.2           True          29799\n",
              "4   2015-01-05    23.82      21.0  ...            0.0          False          28900\n",
              "..         ...      ...       ...  ...            ...            ...            ...\n",
              "360 2015-12-27    24.00      21.1  ...           13.6           True          32307\n",
              "361 2015-12-28    22.64      21.1  ...            0.0          False          26095\n",
              "362 2015-12-29    21.68      20.3  ...           10.3          False          22309\n",
              "363 2015-12-30    21.38      19.3  ...            6.3          False          20467\n",
              "364 2015-12-31    24.76      20.2  ...            0.0          False          22446\n",
              "\n",
              "[365 rows x 7 columns]"
            ]
          },
          "metadata": {
            "tags": []
          },
          "execution_count": 34
        }
      ]
    },
    {
      "cell_type": "code",
      "metadata": {
        "id": "l2vBz-siTJXV",
        "colab_type": "code",
        "colab": {
          "base_uri": "https://localhost:8080/",
          "height": 629
        },
        "outputId": "2f595f38-6068-4936-db17-5efa746419d1"
      },
      "source": [
        "fig, (ax1, ax2, ax3) = plt.subplots(1,3, figsize=(12,3), sharey=True, sharex=True)\n",
        "n_bins = 40\n",
        "\n",
        "ax1.hist(cerveza_df['min_temp'], align = 'mid', bins = n_bins)\n",
        "ax1.set_xlabel('Min Temperatures (C)')\n",
        "ax1.set_ylabel('Count')\n",
        "\n",
        "ax2.hist(cerveza_df['av_temp'], align = 'mid', color='k', bins = n_bins)\n",
        "ax2.set_xlabel('Average Temperatures (C)')\n",
        "\n",
        "ax3.hist(cerveza_df['max_temp'], align = 'mid', color='r', bins = n_bins)\n",
        "ax3.set_xlabel('Max Temperatures (C)')\n",
        "\n",
        "plt.show()\n",
        "\n",
        "kwargs = dict(alpha=0.5, bins = 40, density=True, stacked = True)\n",
        "\n",
        "plt.figure(figsize=(12,6))\n",
        "\n",
        "x1=cerveza_df['min_temp']\n",
        "x2=cerveza_df['av_temp']\n",
        "x3=cerveza_df['max_temp']\n",
        "\n",
        "# plt.hist(x1, **kwargs, color = 'b', label='min_temp')\n",
        "# plt.hist(x2, **kwargs, color = 'k', label='av_temp')\n",
        "# plt.hist(x3, **kwargs, color = 'r', label='max_temp')\n",
        "plt.gca().set(title='Histogram of temperatures (C)', ylabel='Count')\n",
        "\n",
        "plt.axvline(np.mean(x1), c='darkblue', linestyle='--', label = 'mean min temperature')\n",
        "plt.axvline(np.mean(x2), c='gray', linestyle='--', label = 'mean average temperature')\n",
        "plt.axvline(np.mean(x3), c='darkred', linestyle='--', label = 'mean max temperature')\n",
        "\n",
        "sns.distplot(x1, bins=40, color='darkblue')\n",
        "sns.distplot(x2, bins=40, color='k')\n",
        "sns.distplot(x3, bins=40, color='darkred')\n",
        "\n",
        "plt.legend()"
      ],
      "execution_count": 35,
      "outputs": [
        {
          "output_type": "display_data",
          "data": {
            "image/png": "[encoded data removed]",
            "text/plain": [
              "<Figure size 864x216 with 3 Axes>"
            ]
          },
          "metadata": {
            "tags": [],
            "needs_background": "light"
          }
        },
        {
          "output_type": "execute_result",
          "data": {
            "text/plain": [
              "<matplotlib.legend.Legend at 0x7f09242850f0>"
            ]
          },
          "metadata": {
            "tags": []
          },
          "execution_count": 35
        },
        {
          "output_type": "display_data",
          "data": {
            "image/png": "[encoded data removed]",
            "text/plain": [
              "<Figure size 864x432 with 1 Axes>"
            ]
          },
          "metadata": {
            "tags": [],
            "needs_background": "light"
          }
        }
      ]
    },
    {
      "cell_type": "code",
      "metadata": {
        "id": "oNpCU70ZT9SN",
        "colab_type": "code",
        "colab": {
          "base_uri": "https://localhost:8080/",
          "height": 280
        },
        "outputId": "ccb2d9d7-d3c7-4dbf-cffe-142b532ea5a3"
      },
      "source": [
        "x=cerveza_df['beer_consumed']\n",
        "y=cerveza_df['av_temp']\n",
        "fig = cerveza_df.plot(kind=\"scatter\", x = 'beer_consumed', y = 'av_temp',c = 'orange')\n",
        "\n",
        "plt.axvline(np.mean(x)-np.std(x), c = 'r', linestyle = ':', label = '-1 desv. std. sells')\n",
        "plt.axvline(np.mean(x), c = 'grey', linestyle = '--', label = 'Sells average')\n",
        "plt.axvline(np.mean(x)+np.std(x), c = 'g', linestyle = ':', label = '+1 desv. std. sells')\n",
        "\n",
        "plt.axhline(np.mean(y)-np.std(y), c = 'b', linestyle = ':', label = '-1 desv. std. av_temp')\n",
        "plt.axhline(np.mean(y), c = 'grey', linestyle = '--', label = 'Mean av_temp')\n",
        "plt.axhline(np.mean(y)+np.std(y), c = 'r', linestyle = ':', label = '+1 desv. std. av_temp')\n",
        "\n",
        "plt.legend(loc='best', bbox_to_anchor=(1,1), ncol=2)\n",
        "\n",
        "plt.show()"
      ],
      "execution_count": 36,
      "outputs": [
        {
          "output_type": "display_data",
          "data": {
            "image/png": "[encoded data removed]",
            "text/plain": [
              "<Figure size 432x288 with 1 Axes>"
            ]
          },
          "metadata": {
            "tags": [],
            "needs_background": "light"
          }
        }
      ]
    },
    {
      "cell_type": "code",
      "metadata": {
        "id": "6iPS3fscXWkD",
        "colab_type": "code",
        "colab": {
          "base_uri": "https://localhost:8080/",
          "height": 280
        },
        "outputId": "a69bdd29-4ee4-4444-ea19-738e6a8f5c7b"
      },
      "source": [
        "x=cerveza_df['beer_consumed']\n",
        "y=cerveza_df['precipitation']\n",
        "fig = cerveza_df.plot(kind=\"scatter\", x = 'beer_consumed', y = 'precipitation',c = 'purple')\n",
        "\n",
        "plt.axvline(np.mean(x)-np.std(x), c = 'r', linestyle = ':', label = '-1 desv. std. sells')\n",
        "plt.axvline(np.mean(x), c = 'grey', linestyle = '--', label = 'Sells average')\n",
        "plt.axvline(np.mean(x)+np.std(x), c = 'g', linestyle = ':', label = '+1 desv. std. sells')\n",
        "\n",
        "plt.axhline(np.mean(y)-np.std(y), c = 'b', linestyle = ':', label = '-1 desv. std. precipitation')\n",
        "plt.axhline(np.mean(y), c = 'grey', linestyle = '--', label = 'Mean av_temp')\n",
        "plt.axhline(np.mean(y)+np.std(y), c = 'r', linestyle = ':', label = '+1 desv. std. precipitation')\n",
        "\n",
        "plt.legend(loc='best', bbox_to_anchor=(1,1), ncol=2)\n",
        "\n",
        "plt.show()"
      ],
      "execution_count": 37,
      "outputs": [
        {
          "output_type": "display_data",
          "data": {
            "image/png": "[encoded data removed]",
            "text/plain": [
              "<Figure size 432x288 with 1 Axes>"
            ]
          },
          "metadata": {
            "tags": [],
            "needs_background": "light"
          }
        }
      ]
    },
    {
      "cell_type": "code",
      "metadata": {
        "id": "pYY52F5P58oo",
        "colab_type": "code",
        "colab": {}
      },
      "source": [
        "def csv_as_arrays(file):\n",
        "    with open(beer_csv, mode=\"r\", encoding='utf-8', newline='') as csv_file:\n",
        "        csv_reader = csv.reader(csv_file)\n",
        "        header = next(csv_reader)\n",
        "        \n",
        "        column_data = ''\n",
        "        data_date = []\n",
        "        av_temp = []\n",
        "        min_temp = []\n",
        "        max_temp = []\n",
        "        precipitation = []\n",
        "        was_a_weekend = []\n",
        "        beer_consumed = []\n",
        "        \n",
        "        for row in csv_reader:\n",
        "            #No 'problem'\n",
        "    \n",
        "            if row[0]!= '': data_date.append(datetime.strptime(row[0], '%Y-%m-%d'))\n",
        "                \n",
        "            if row[5] != '': was_a_weekend.append(bool(int(row[5])))\n",
        "            \n",
        "            #Comma problem\n",
        "            if row[1] != '': av_temp.append(float(row[1].replace(',','.')))\n",
        "            if row[2] != '': min_temp.append(float(row[2].replace(',','.')))\n",
        "            if row[3] != '': max_temp.append(float(row[3].replace(',','.')))\n",
        "            if row[4] != '': precipitation.append(float(row[4].replace(',','.')))\n",
        "            \n",
        "            #Period Problem\n",
        "            if row[6] != '': beer_consumed.append(int(row[6].replace('.','')))\n",
        "            \n",
        "    csv_file.close()\n",
        "\n",
        "    return data_date, was_a_weekend, av_temp, min_temp, max_temp, precipitation, beer_consumed"
      ],
      "execution_count": 38,
      "outputs": []
    },
    {
      "cell_type": "code",
      "metadata": {
        "id": "oo9oVzAW6aZM",
        "colab_type": "code",
        "colab": {}
      },
      "source": [
        "data_date, was_a_weekend, av_temp, min_temp, max_temp, precipitation, beer_consumed = csv_as_arrays(beer_csv)"
      ],
      "execution_count": 39,
      "outputs": []
    },
    {
      "cell_type": "code",
      "metadata": {
        "id": "SSeqbf0j6rYo",
        "colab_type": "code",
        "colab": {}
      },
      "source": [
        "def match_cases(array_filter, array):\n",
        "  match_cases = []\n",
        "\n",
        "  #Creating Support dictionaries\n",
        "  wanted_cases = set(array_filter)\n",
        "  \n",
        "  for ub in range(len(array)):\n",
        "    val = array[ub]\n",
        "    if val in wanted_cases: match_cases.append(ub)\n",
        "      \n",
        "  return match_cases\n",
        "\n",
        "def top_condisioned(array, start_value):\n",
        "  helper_array = sorted_set(array.copy())\n",
        "  helpers_end = len(helper_array) - 1\n",
        "  ubication =  binary_search(helper_array, 0, helpers_end, start_value)\n",
        "  \n",
        "  top_condisioned = []\n",
        "  for i in range(ubication, helpers_end):\n",
        "    top_condisioned.append(helper_array[i])\n",
        "\n",
        "  return top_condisioned\n",
        "\n",
        "def sorted_set(array):\n",
        "  reduced_set = set(array)\n",
        "  reduced_array = []\n",
        "  for element in reduced_set:\n",
        "    reduced_array.append(element)\n",
        "  reduced_array = merge_sort(reduced_array)\n",
        "\n",
        "  return reduced_array\n",
        "\n",
        "def binary_search(array, start, end, search_value):\n",
        "  if start > end:\n",
        "    return end\n",
        "  \n",
        "  middle = (start + end) // 2\n",
        "\n",
        "  if array[middle] == search_value:\n",
        "    return middle\n",
        "  elif array[middle] < search_value:\n",
        "    return binary_search(array, middle + 1, end, search_value)\n",
        "  else:\n",
        "    return binary_search(array, start, middle - 1, search_value)\n",
        "\n",
        "def merge_sort(array):\n",
        "  if len(array) > 1:\n",
        "    middle = len(array) // 2\n",
        "    left = array[:middle]\n",
        "    right = array[middle:]\n",
        "\n",
        "    merge_sort(left)\n",
        "    merge_sort(right)\n",
        "    \n",
        "    \"\"\"SubArrays Iterators\"\"\"\n",
        "    i = 0\n",
        "    j = 0\n",
        "    \"\"\"MainArray Iterator\"\"\"\n",
        "    k = 0\n",
        "\n",
        "    while i < len(left) and j < len(right):\n",
        "      if left[i] < right[j]:\n",
        "        array[k] = left[i]\n",
        "        i += 1\n",
        "      else:\n",
        "        array[k] = right[j]\n",
        "        j += 1\n",
        "      \n",
        "      k += 1\n",
        "\n",
        "    while i < len(left):\n",
        "      array[k] = left[i]\n",
        "      i += 1\n",
        "      k += 1\n",
        "\n",
        "    while j < len(right):\n",
        "      array[k] = right[j]\n",
        "      j += 1\n",
        "      k += 1\n",
        "\n",
        "  return array\n",
        "\n",
        "def boolean_clasification(array):\n",
        "  true_array = []\n",
        "  false_array = []\n",
        "\n",
        "  for i in range(len(array)):\n",
        "    if array[i] == True:\n",
        "      true_array.append(array[i])\n",
        "    else: false_array.append(array[i])\n",
        "  \n",
        "  return true_array, false_array\n",
        "\n",
        "def extract_matches(array_filter, array):\n",
        "    match_cases = []\n",
        "\n",
        "    #Creating Support dictionaries\n",
        "    wanted_cases = set(array_filter)\n",
        "\n",
        "    for ub in range(len(array)):\n",
        "        val = array[ub]\n",
        "        if val in wanted_cases: match_cases.append(array[ub])\n",
        "    return match_cases\n",
        "\n",
        "\n",
        "def all_major_cases(array, value):\n",
        "    major_cases = []\n",
        "\n",
        "    for ub in range(len(array)):\n",
        "        if array[ub] >= value: major_cases.append(array[ub])\n",
        "\n",
        "    return major_cases\n",
        "\n",
        "def all_minor_cases(array, value):\n",
        "    minor_cases = []\n",
        "\n",
        "    for ub in range(len(array)):\n",
        "        if array[ub] <= value: minor_cases.append(array[ub])\n",
        "\n",
        "    return minor_cases\n",
        "\n",
        "def all_equal_cases(array, value):\n",
        "    equal_cases = []\n",
        "\n",
        "    for ub in range(len(array)):\n",
        "        if array[ub] == value: equal_cases.append(array[ub])\n",
        "\n",
        "    return equal_cases\n",
        "\n",
        "def all_not_equal_cases(array, value):\n",
        "    not_equal_cases = []\n",
        "\n",
        "    for ub in range(len(array)):\n",
        "        if array[ub] != value: not_equal_cases.append(array[ub])\n",
        "\n",
        "    return not_equal_cases\n",
        "\n",
        "def all_bool_cases(array, bool_value):\n",
        "    bool_cases = []\n",
        "\n",
        "    for ub in range(len(array)):\n",
        "        if array[ub] == value: bool_cases.append(array[ub])\n",
        "\n",
        "    return bool_cases"
      ],
      "execution_count": 89,
      "outputs": []
    },
    {
      "cell_type": "code",
      "metadata": {
        "id": "6Jv080sC76T_",
        "colab_type": "code",
        "colab": {
          "base_uri": "https://localhost:8080/",
          "height": 34
        },
        "outputId": "d5f69ca8-947c-4a28-e860-3bf34b80d32e"
      },
      "source": [
        "gta_sells = top_condisioned(beer_consumed,np.mean(beer_consumed))\n",
        "len(best_sells)"
      ],
      "execution_count": 41,
      "outputs": [
        {
          "output_type": "execute_result",
          "data": {
            "text/plain": [
              "166"
            ]
          },
          "metadata": {
            "tags": []
          },
          "execution_count": 41
        }
      ]
    },
    {
      "cell_type": "code",
      "metadata": {
        "id": "CJvbOT9X8B0m",
        "colab_type": "code",
        "colab": {}
      },
      "source": [
        "ub_gta_sells = match_cases(gta_sells, beer_consumed)"
      ],
      "execution_count": 51,
      "outputs": []
    },
    {
      "cell_type": "code",
      "metadata": {
        "id": "x_lCS8UOki6O",
        "colab_type": "code",
        "colab": {
          "base_uri": "https://localhost:8080/",
          "height": 34
        },
        "outputId": "c5577c10-e396-4990-8104-ac472424b45b"
      },
      "source": [
        ""
      ],
      "execution_count": 90,
      "outputs": [
        {
          "output_type": "stream",
          "text": [
            "[]\n"
          ],
          "name": "stdout"
        }
      ]
    },
    {
      "cell_type": "code",
      "metadata": {
        "id": "Ovx3Mrl49iNE",
        "colab_type": "code",
        "colab": {
          "base_uri": "https://localhost:8080/",
          "height": 118
        },
        "outputId": "ecf63572-92f9-4da4-996a-68249dde2d32"
      },
      "source": [
        "gta_av_temp = []\n",
        "gta_week_day = []\n",
        "gta_precipitation = []\n",
        "\n",
        "for i in range(len(ub_gta_sells)):\n",
        "  match = ub_gta_sells[i]\n",
        "  gta_av_temp.append(av_temp[match])\n",
        "  gta_week_day.append(was_a_weekend[match])\n",
        "  gta_precipitation.append(precipitation[match])\n",
        "\n",
        "print(f'len of gta_av_temp: {len(gta_av_temp)}')\n",
        "print(f'len of gta_week_day: {len(gta_week_day)}')\n",
        "print(f'len of gta_precipitation: {len(gta_precipitation)}')\n",
        "\n",
        "gta_weekend_sells, gta_middle_week_sells = boolean_clasification(gta_week_day)\n",
        "print(f'\\nlen of gta_weekend_sells: {len(gta_weekend_sells)}')\n",
        "print(f'len of gta_middle_week_sells: {len(gta_middle_week_sells)}')"
      ],
      "execution_count": 91,
      "outputs": [
        {
          "output_type": "stream",
          "text": [
            "len of gta_av_temp: 167\n",
            "len of gta_week_day: 167\n",
            "len of gta_precipitation: 167\n",
            "\n",
            "len of gta_weekend_sells: 80\n",
            "len of gta_middle_week_sells: 87\n"
          ],
          "name": "stdout"
        }
      ]
    },
    {
      "cell_type": "code",
      "metadata": {
        "id": "vAFPojN0_lW1",
        "colab_type": "code",
        "colab": {
          "base_uri": "https://localhost:8080/",
          "height": 87
        },
        "outputId": "9a27947e-bfc4-415f-83ed-5fc1cf8139b6"
      },
      "source": [
        "pls_std_best_sells = np.mean(beer_consumed)+np.std(beer_consumed)\n",
        "best_sells = top_condisioned(beer_consumed,pls_std_best_sells)\n",
        "print(best_sells)\n",
        "print(len(best_sells))\n",
        "print(max(best_sells))\n",
        "\n",
        "ub_best_sells = match_cases(best_sells, beer_consumed)"
      ],
      "execution_count": 58,
      "outputs": [
        {
          "output_type": "stream",
          "text": [
            "[29760, 29799, 29829, 29926, 29938, 29972, 30127, 30177, 30231, 30300, 30329, 30345, 30392, 30471, 30479, 30498, 30505, 30524, 30617, 30740, 30775, 30814, 30825, 30943, 31088, 31108, 31129, 31139, 31310, 31387, 31572, 31649, 31655, 31663, 31681, 31825, 31833, 31836, 31933, 32057, 32184, 32307, 32451, 32467, 32473, 32536, 32589, 32666, 32713, 32780, 32872, 32983, 33182, 33298, 33330, 33450, 33517, 33822, 33930, 34382, 34496, 34695, 35127, 35781, 35861, 36254, 37690]\n",
            "67\n",
            "37690\n"
          ],
          "name": "stdout"
        }
      ]
    },
    {
      "cell_type": "code",
      "metadata": {
        "id": "s9uuayZpU4jc",
        "colab_type": "code",
        "colab": {
          "base_uri": "https://localhost:8080/",
          "height": 67
        },
        "outputId": "779c150c-cee1-40a7-f68b-3fe934a2de6d"
      },
      "source": [
        "best_av_temp = []\n",
        "best_week_day = []\n",
        "best_precipitation = []\n",
        "\n",
        "for i in range(len(ub_best_sells)):\n",
        "  match = ub_best_sells[i]\n",
        "  best_av_temp.append(av_temp[match])\n",
        "  best_week_day.append(was_a_weekend[match])\n",
        "  best_precipitation.append(precipitation[match])\n",
        "\n",
        "print(f'len of best_av_temp: {len(best_av_temp)}')\n",
        "print(f'len of best_week_day: {len(best_week_day)}')\n",
        "print(f'len of best_precipitation: {len(best_precipitation)}')"
      ],
      "execution_count": 62,
      "outputs": [
        {
          "output_type": "stream",
          "text": [
            "len of best_av_temp: 67\n",
            "len of best_week_day: 67\n",
            "len of best_precipitation: 67\n"
          ],
          "name": "stdout"
        }
      ]
    },
    {
      "cell_type": "code",
      "metadata": {
        "id": "-CX5CXDcfPl2",
        "colab_type": "code",
        "colab": {
          "base_uri": "https://localhost:8080/",
          "height": 70
        },
        "outputId": "10459ded-e4e5-44f4-f0f5-5994a127a9ac"
      },
      "source": [
        "set_of_best_and_hotday_sells = top_condisioned(best_av_temp, np.mean(av_temp))\n",
        "print(set_of_best_and_hotday_sells)\n",
        "print(len(set_of_best_and_hotday_sells))\n"
      ],
      "execution_count": 105,
      "outputs": [
        {
          "output_type": "stream",
          "text": [
            "[21.22, 21.74, 21.8, 22.08, 22.1, 22.26, 22.3, 22.36, 22.38, 22.48, 22.52, 22.76, 22.82, 22.84, 23.06, 23.12, 23.16, 23.18, 23.28, 23.36, 23.6, 23.7, 23.74, 23.86, 23.98, 24.0, 24.04, 24.16, 24.32, 24.4, 24.42, 24.44, 24.5, 24.62, 24.72, 24.8, 24.82, 25.2, 25.96, 26.14, 26.5, 26.56, 27.26, 27.62, 27.68, 28.0, 28.12, 28.26, 28.3]\n",
            "49\n"
          ],
          "name": "stdout"
        }
      ]
    },
    {
      "cell_type": "code",
      "metadata": {
        "id": "ay8x5egJWC4f",
        "colab_type": "code",
        "colab": {
          "base_uri": "https://localhost:8080/",
          "height": 101
        },
        "outputId": "2a14b66f-68e8-4607-dbb3-c880d5ab32d8"
      },
      "source": [
        "best_weekend_sells, best_middle_week_sells = boolean_clasification(best_week_day)\n",
        "print(f'Quantity of best_weekend_sells: {len(best_weekend_sells)}')\n",
        "print(f'Quantity of best_middle_week_sells: {len(best_middle_week_sells)}')\n",
        "\n",
        "\n",
        "print(f'\\nQuantity of gta_weekend_sells: {len(gta_weekend_sells)}')\n",
        "print(f'Quantity of gta_middle_week_sells: {len(gta_middle_week_sells)}')"
      ],
      "execution_count": 65,
      "outputs": [
        {
          "output_type": "stream",
          "text": [
            "Quantity of best_weekend_sells: 47\n",
            "Quantity of best_middle_week_sells: 20\n",
            "\n",
            "Quantity of gta_weekend_sells: 80\n",
            "Quantity of gta_middle_week_sells: 87\n"
          ],
          "name": "stdout"
        }
      ]
    },
    {
      "cell_type": "code",
      "metadata": {
        "id": "MSzek5AFa4Ez",
        "colab_type": "code",
        "colab": {}
      },
      "source": [
        "def bool_and_major_matches(bool_array, bool_wanted, numeric_array, start_limit):\n",
        "    if len(bool_array) == len(numeric_array):\n",
        "        match_cases = []\n",
        "\n",
        "        #Creating Support dictionaries\n",
        "        \n",
        "        for ub in range(len(bool_array)):\n",
        "            bool_val = bool_array[ub]\n",
        "            numeric_val = numeric_array[ub]\n",
        "            if bool_val == bool_wanted and numeric_val >= start_limit:\n",
        "                match_cases.append(ub)\n",
        "            \n",
        "        return match_cases\n",
        "    else: pass\n",
        "\n",
        "def bool_and_minor_matches(bool_array, bool_wanted, numeric_array, end_limit):\n",
        "    if len(bool_array) == len(numeric_array):\n",
        "        match_cases = []\n",
        "\n",
        "        #Creating Support dictionaries\n",
        "        \n",
        "        for ub in range(len(bool_array)):\n",
        "            bool_val = bool_array[ub]\n",
        "            numeric_val = numeric_array[ub]\n",
        "            if bool_val == bool_wanted and numeric_val <= end_limit:\n",
        "                match_cases.append(ub)\n",
        "            \n",
        "        return match_cases\n",
        "    else: pass"
      ],
      "execution_count": 74,
      "outputs": []
    },
    {
      "cell_type": "code",
      "metadata": {
        "id": "i3EiZbjycfI7",
        "colab_type": "code",
        "colab": {
          "base_uri": "https://localhost:8080/",
          "height": 134
        },
        "outputId": "e2514015-4741-444c-892f-391657720026"
      },
      "source": [
        "print('Mejores ventas en días que:')\n",
        "rainy_and_weekend_best_sells = bool_and_major_matches(best_week_day, True, best_precipitation, 0.01)\n",
        "ndays_raw_bs = len(rainy_and_weekend_best_sells)\n",
        "print(f'-> llovieron y eran fin de semana: {ndays_raw_bs}')\n",
        "\n",
        "dry_and_weekend_best_sells = bool_and_minor_matches(best_week_day, True, best_precipitation, 0)\n",
        "ndays_daw_bs = len(dry_and_weekend_best_sells)\n",
        "print(f'-> no llovieron y eran fin de semana: {ndays_daw_bs}')\n",
        "\n",
        "rainy_and_middle_week_best_sells = bool_and_major_matches(best_week_day, False, best_precipitation, 0.01)\n",
        "ndays_ramw_bs = len(rainy_and_middle_week_best_sells)\n",
        "print(f'-> llovieron y eran en mitad de semana: {ndays_ramw_bs}')\n",
        "\n",
        "dry_and_middleweek_best_sells = bool_and_minor_matches(best_week_day, False, best_precipitation, 0)\n",
        "ndays_damw_bs = len(dry_and_middleweek_best_sells)\n",
        "print(f'-> no llovieron y eran entre semana: {ndays_damw_bs}')\n",
        "\n",
        "print(f'total = {ndays_raw_bs + ndays_daw_bs + ndays_ramw_bs + ndays_damw_bs}')"
      ],
      "execution_count": 103,
      "outputs": [
        {
          "output_type": "stream",
          "text": [
            "Mejores ventas en días que:\n",
            "-> llovieron y eran fin de semana: 15\n",
            "-> no llovieron y eran fin de semana: 32\n",
            "-> llovieron y eran en mitad de semana: 6\n",
            "-> no llovieron y eran entre semana: 14\n",
            "total = 67\n",
            "[1, 2, 12, 17, 24, 29, 45, 48, 55, 58, 60, 61, 63, 64, 66]\n"
          ],
          "name": "stdout"
        }
      ]
    }
  ]
}